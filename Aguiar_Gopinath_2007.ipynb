{
 "cells": [
  {
   "cell_type": "code",
   "execution_count": 1,
   "metadata": {},
   "outputs": [],
   "source": [
    "%load_ext oct2py.ipython"
   ]
  },
  {
   "cell_type": "code",
   "execution_count": 2,
   "metadata": {},
   "outputs": [
    {
     "name": "stdout",
     "output_type": "stream",
     "text": [
      "Overwriting Aguiar_Gopinath_2007_notebook.mod\n"
     ]
    }
   ],
   "source": [
    "%%writefile Aguiar_Gopinath_2007_notebook.mod\n",
    "\n",
    "/*\n",
    " * This file replicates the model studied in:\n",
    " * Aguiar, Mark and Gopinath, Gita (2007): \"Emerging Market Business Cycles:\n",
    " * The Cycle is the Trend\", Journal of Political Economy, 115(1), pp. 69-102.\n",
    " * \n",
    " * It provides a full replication of the main results of the original paper  \n",
    " * for the benchmark calibration. In contrast to the agmodel.mod distributed \n",
    " * with Dynare, it calibrates the debt to GDP ratio to exactly 0.1 by analytically\n",
    " * computing the steady state.\n",
    " *\n",
    " * This mod-file shows how to deal with trend growth and how to \n",
    " * recover the non-stationary variables from the detrended model variables.\n",
    " * \n",
    " * Notes:\n",
    " * - The original paper uses theoretical HP-filtered moments for the \n",
    " *   non-stationary time series. As Dynare only provides theoretical HP-filtered\n",
    " *   moments for stationary time series, the current mod-file instead uses\n",
    " *   simulated moments. This results in small moments differences in the second \n",
    " *   digit.\n",
    " * - The FOC wrt capital is simplified to a lesser degree than the one in agtrend.mod\n",
    " *   to make explicit the use of the product rule.\n",
    " * - The paper uses NX to denote net exports as a share of GDP, not the net export level\n",
    " *\n",
    " * This implementation was written by Johannes Pfeifer. \n",
    " * Please note that the following copyright notice only applies to this Dynare \n",
    " * implementation of the model.\n",
    " */\n",
    "\n",
    "/*\n",
    " * Copyright (C) 2013-2024 Johannes Pfeifer\n",
    " *\n",
    " * This is free software: you can redistribute it and/or modify\n",
    " * it under the terms of the GNU General Public License as published by\n",
    " * the Free Software Foundation, either version 3 of the License, or\n",
    " * (at your option) any later version.\n",
    " *\n",
    " * It is distributed in the hope that it will be useful,\n",
    " * but WITHOUT ANY WARRANTY; without even the implied warranty of\n",
    " * MERCHANTABILITY or FITNESS FOR A PARTICULAR PURPOSE.  See the\n",
    " * GNU General Public License for more details.\n",
    " *\n",
    " * For a copy of the GNU General Public License,\n",
    " * see <http://www.gnu.org/licenses/>.\n",
    " */\n",
    "\n",
    "var c k y b q g l u z uc ul c_y i_y invest nx i_y_percentage c_y_percentage \n",
    "    log_y log_c log_i\n",
    "    delta_y;\n",
    "\n",
    "predetermined_variables k b; //allows using beginning of period stock notation\n",
    "\n",
    "varexo eps_z eps_g;\n",
    "\n",
    "parameters mu_g sigma rho_g delta phi psi b_star alpha rho_z r_star beta gamma b_share;\n",
    "\n",
    "// Set the following variable to 0 to get the calibration for Canada\n",
    "@#define mexico = 1\n",
    "\n",
    "\n",
    "// Benchmark parameter values (Table 3)\n",
    "beta = 1/1.02;\n",
    "gamma = 0.36;\n",
    "b_share   = 0.1; //10% of GDP\n",
    "psi = 0.001;\n",
    "alpha = 0.68;\n",
    "sigma = 2;\n",
    "delta = 0.05;\n",
    "phi = 4;\n",
    "\n",
    "// Estimated parameters (Table 4)\n",
    "@#if mexico == 1\n",
    "mu_g = log(1.0066); //is used for benchmark although not mentioned in Table 3\n",
    "rho_z = 0.95;\n",
    "rho_g = 0.01;\n",
    "@# else\n",
    "mu_g = log(1.0073); //is used for benchmark although not mentioned in Table 3\n",
    "rho_z = 0.95;\n",
    "rho_g = 0.01;\n",
    "@# endif\n",
    "\n",
    "//compute steady state values and calibrate the model to a steady state debt to GDP \n",
    "//ratio of 0.1\n",
    " \n",
    "model;\n",
    "y = exp(z)*k^(1-alpha)*(exp(g)*l)^alpha; // Production function (1)\n",
    "z = rho_z*z(-1)+eps_z; // Definition transitory shock (2)\n",
    "g = (1-rho_g)*mu_g+rho_g*g(-1)+eps_g; // Definition trend shock \n",
    "u = (c^gamma*(1-l)^(1-gamma))^(1-sigma)/(1-sigma); // Cobb-Douglas utility function (3)\n",
    "uc = gamma*u/c*(1-sigma); //Marginal utility\n",
    "ul = -(1-gamma)*u/(1-l)*(1-sigma); //Disutility of labor\n",
    "c+exp(g)*k(+1)=y+(1-delta)*k-phi/2*(exp(g)*k(+1)/k-exp(mu_g))^2*k-b+q*exp(g)*b(+1); // Resource constraint (7)\n",
    "1/q = 1+r_star+psi*(exp(b(+1)-b_star)-1); // Price of debt (5)\n",
    "uc*(1+phi*(exp(g)*k(+1)/k-exp(mu_g)))*exp(g)=beta*exp(g*(gamma*(1-sigma)))*uc(+1)*(1-delta+(1-alpha)*y(+1)/k(+1)\n",
    "                                                  -phi/2*(2*(exp(g(+1))*k(+2)/k(+1)-exp(mu_g))*(-1)*exp(g(+1))*k(+2)/k(+1)+\n",
    "                                                          (exp(g(+1))*k(+2)/k(+1)-exp(mu_g))^2)); // FOC wrt to capital\n",
    "ul+uc*alpha*y/l=0; // FOC wrt labor \n",
    "uc*exp(g)*q=beta*exp(g*(gamma*(1-sigma)))*uc(+1); // Euler equation for Bonds\n",
    "invest = exp(g)*k(+1)-(1-delta)*k+phi/2*(exp(g)*k(+1)/k-exp(mu_g))^2*k; // Law of motion for capital (8)\n",
    "\n",
    "//Definitional equations used for IRFs and moment computations\n",
    "c_y = c/y; // Consumption to GDP ratio\n",
    "i_y = invest/y; // Investment to GDP ratio\n",
    "nx=(b-exp(g)*q*b(+1))/y; //Net export to GDP ratio\n",
    "\n",
    "//Use logarithm to get variables in percentage deviations\n",
    "i_y_percentage=log(i_y);\n",
    "c_y_percentage=log(c_y);\n",
    "log_y=log(y);\n",
    "log_c=log(c);\n",
    "log_i=log(invest);\n",
    "\n",
    "//Define growth rate of output\n",
    "delta_y=log(y)-log(y(-1))+g(-1);\n",
    "end;\n",
    "\n",
    "steady_state_model;\n",
    "q=beta*exp(mu_g)^(gamma*(1-sigma)-1);\n",
    "YKbar=((1/q)-(1-delta))/(1-alpha);\n",
    "c_y=1+(1-exp(mu_g)-delta)*(1/YKbar)-(1-exp(mu_g)*q)*b_share;\n",
    "l=(alpha*gamma)/(c_y-gamma*c_y+alpha*gamma);\n",
    "k=(((exp(mu_g)^alpha)*(l^alpha))/YKbar)^(1/alpha);\n",
    "y=k^(1-alpha)*(l*exp(mu_g))^alpha;\n",
    "c=c_y*y;\n",
    "invest=(exp(mu_g)-1+delta)*k;\n",
    "b_star=b_share*y;\n",
    "nx=(y-c-invest)/y;\n",
    "r_star = 1/q-1;\n",
    "\n",
    "b = b_star;\n",
    "z = 0;\n",
    "g = mu_g;\n",
    "u = (c^gamma*(1-l)^(1-gamma))^(1-sigma)/(1-sigma);\n",
    "uc = gamma*u/c*(1-sigma);\n",
    "ul = -(1-gamma)*u/(1-l)*(1-sigma);\n",
    "i_y = (exp(g)*k-(1-delta)*k)/y;\n",
    "i_y_percentage=log(i_y);\n",
    "c_y_percentage=log(c_y);\n",
    "log_y=log(y);\n",
    "log_c=log(c);\n",
    "log_i=log(invest);\n",
    "delta_y=mu_g;\n",
    "end;\n",
    "\n",
    "\n",
    "//%%%%%%%%%%%%%%%%% replicate Figure 3, p. 88-89 %%%%%%%%%%%%%%%%%%%%%%%%%\n",
    "//%%%%%%%%%%%%%%%%% Uses unit shock              %%%%%%%%%%%%%%%%%%%%%%%%%\n",
    "shocks;\n",
    "var eps_g; stderr 1; \n",
    "var eps_z; stderr 1;\n",
    "end;\n",
    "resid;\n",
    "steady;\n",
    "\n",
    "check;\n",
    "\n",
    "//%%%%%%%%%%%%%%%%%%%%%% Plot impulse response functions  %%%%%%%%%%%%%%%%\n",
    "stoch_simul(order=1,nomoments,nofunctions) nx c_y_percentage i_y_percentage;\n",
    "\n",
    "//%%%%%%%%%%%%%%%%%%%%%% Plot impulse response functions of  %%%%%%%%%%%%%%\n",
    "//%%%%%%%%%%%%%%%%%%%%%% non-stationary time series          %%%%%%%%%%%%%%\n",
    "\n",
    "//generate IRF of stationary model variables\n",
    "stoch_simul(order=1,nograph) log_y log_c log_i g;\n",
    "send_irfs_to_workspace;\n",
    "\n",
    "//Now back out IRF of non-stationary model variables by adding trend growth back\n",
    "\n",
    "log_Gamma_0=0; //Initialize Level of Technology at t=0;\n",
    "log_Gamma(1,1)=g_eps_g(1,1)+log_Gamma_0; //Level of Tech. after shock in period 1\n",
    "\n",
    "// reaccumulate the non-stationary level series; note that AG2007 detrend with X_t-1, thus the technology level in the loop is shifted by 1 period \n",
    "log_y_nonstationary = zeros(options_.irf,1);\n",
    "log_c_nonstationary = zeros(options_.irf,1);\n",
    "log_i_nonstationary = zeros(options_.irf,1);\n",
    "for ii=2:options_.irf\n",
    "    log_Gamma(ii,1)=g_eps_g(ii,1)+log_Gamma(ii-1,1);\n",
    "    log_y_nonstationary(ii,1)=log_y_eps_g(ii,1)+log_Gamma(ii-1,1);\n",
    "    log_c_nonstationary(ii,1)=log_c_eps_g(ii,1)+log_Gamma(ii-1,1);\n",
    "    log_i_nonstationary(ii,1)=log_i_eps_g(ii,1)+log_Gamma(ii-1,1);\n",
    "end\n",
    "\n",
    "//Make the plot\n",
    "figure('Name','IRF of non-detrended variables to a trend productivity shock');\n",
    "subplot(3,1,1)\n",
    "plot(1:options_.irf,log_y_nonstationary)\n",
    "title('Output')\n",
    "subplot(3,1,2)\n",
    "plot(1:options_.irf,log_c_nonstationary)\n",
    "title('Consumption')\n",
    "subplot(3,1,3)\n",
    "plot(1:options_.irf,log_i_nonstationary)\n",
    "title('Investment')\n",
    "\n",
    "//%%%%%%%%%%%%%%%%% Replicate Table 5, p. 94-95  %%%%%%%%%%%%%%%%%%%%%%%%%\n",
    "//%%%%%%%%%%%%%%%%% Panel A, Column 2 (specification 1) %%%%%%%%%%%%%%%%%%\n",
    "\n",
    "//reset shocks to specification 1 of Table 4\n",
    "@#if mexico == 1\n",
    "shocks;\n",
    "var eps_g; stderr 2.81/100;\n",
    "var eps_z; stderr 0.48/100;\n",
    "end;\n",
    "@# else\n",
    "shocks;\n",
    "var eps_g; stderr 0.88/100;\n",
    "var eps_z; stderr 0.78/100;\n",
    "end;\n",
    "@# endif\n",
    "\n",
    "\n",
    "// Simulate series on which to compute moments (Paper uses analytical moments)\n",
    "stoch_simul(irf=0,order=1,periods=100000,nomoments,nofunctions) log_y delta_y c invest nx;\n",
    "send_endogenous_variables_to_workspace;    \n",
    "\n",
    "// Rebuild non-stationary time series by remultiplying with trend Gamma_{t-1}\n",
    "\n",
    "log_Gamma_0=0; //Initialize Level of Technology at t=0;\n",
    "log_Gamma(1,1)=g(1,1)+log_Gamma_0; //Level of Tech. after shock in period 1\n",
    "\n",
    "// reaccumulate the non-stationary level series\n",
    "log_y_nonstationary = zeros(options_.periods,1);\n",
    "log_c_nonstationary = zeros(options_.periods,1);\n",
    "log_i_nonstationary = zeros(options_.periods,1);\n",
    "for ii=2:options_.periods\n",
    "    log_Gamma(ii,1)=g(ii,1)+log_Gamma(ii-1,1);\n",
    "    log_y_nonstationary(ii,1)=log_y(ii,1)+log_Gamma(ii-1,1);\n",
    "    log_c_nonstationary(ii,1)=log_c(ii,1)+log_Gamma(ii-1,1);\n",
    "    log_i_nonstationary(ii,1)=log_i(ii,1)+log_Gamma(ii-1,1);\n",
    "end\n",
    "\n",
    "// HP-filter the non-stationary time series; note that nx is share of \n",
    "// net exports in GDP and does not contain a trend by construction \n",
    "\n",
    "[ytrend,ycyclical]=sample_hp_filter([log_y_nonstationary log_c_nonstationary log_i_nonstationary nx],1600);\n",
    "\n",
    "//compute standard deviations\n",
    "standard_devs=std(ycyclical)*100;\n",
    "standard_dev_first_diff=std(delta_y)*100;\n",
    "\n",
    "//compute relative standard deviations\n",
    "relative_standard_devs=standard_devs./standard_devs(1);\n",
    "\n",
    "//compute autocorrelations\n",
    "autocorrelations(1,1)=corr(ycyclical(2:end,1),ycyclical(1:end-1,1));\n",
    "autocorrelations(2,1)=corr(delta_y(2:end,1),delta_y(1:end-1,1));\n",
    "\n",
    "//compute correlations\n",
    "correlations=corr(ycyclical(:,1),ycyclical(:,2:end));\n",
    "\n",
    "//Display everything\n",
    "fprintf('\\n Table 5 - Moments\\n');\n",
    "fprintf('%20s \\t %3.2f\\n','sigma(y)',standard_devs(1,1));\n",
    "fprintf('%20s \\t %3.2f\\n','sigma(delta y)',standard_dev_first_diff);\n",
    "fprintf('%20s \\t %3.2f\\n','sigma(c)/sigma(y)',relative_standard_devs(2));\n",
    "fprintf('%20s \\t %3.2f\\n','sigma(i)/sigma(y)',relative_standard_devs(3));\n",
    "fprintf('%20s \\t %3.2f\\n','sigma(nx)/sigma(y)',relative_standard_devs(4));\n",
    "fprintf('%20s \\t %3.2f\\n','rho(y)',autocorrelations(1,1));\n",
    "fprintf('%20s \\t %3.2f\\n','rho(delta y)',autocorrelations(2,1));\n",
    "fprintf('%20s \\t %3.2f\\n','rho(y,nx)',correlations(3));\n",
    "fprintf('%20s \\t %3.2f\\n','rho(y,c)',correlations(1));\n",
    "fprintf('%20s \\t %3.2f\\n','rho(y,i)',correlations(2));"
   ]
  },
  {
   "cell_type": "code",
   "execution_count": 3,
   "metadata": {},
   "outputs": [
    {
     "name": "stdout",
     "output_type": "stream",
     "text": [
      "\u001b[?2004l\n",
      "\u001b[?2004l\n",
      "\u001b[?2004l\n"
     ]
    },
    {
     "data": {
      "text/plain": [
       "\u001b[?2004l"
      ]
     },
     "metadata": {},
     "output_type": "display_data"
    },
    {
     "data": {
      "text/plain": [
       "warning: function /usr/local/Cellar/dynare/6.1/lib/dynare/matlab/+identification/display.m shadows a built-in function"
      ]
     },
     "metadata": {},
     "output_type": "display_data"
    },
    {
     "data": {
      "text/plain": [
       "warning: function /usr/local/Cellar/dynare/6.1/lib/dynare/matlab/+identification/display.m shadows a built-in function"
      ]
     },
     "metadata": {},
     "output_type": "display_data"
    },
    {
     "data": {
      "text/plain": [
       "\u001b[?2004l"
      ]
     },
     "metadata": {},
     "output_type": "display_data"
    },
    {
     "data": {
      "text/plain": [
       "warning: function /usr/local/Cellar/dynare/6.1/lib/dynare/matlab/+identification/display.m shadows a built-in function"
      ]
     },
     "metadata": {},
     "output_type": "display_data"
    },
    {
     "data": {
      "text/plain": [
       "\u001b[?2004l"
      ]
     },
     "metadata": {},
     "output_type": "display_data"
    },
    {
     "data": {
      "text/plain": [
       "warning: function /usr/local/Cellar/dynare/6.1/lib/dynare/matlab/+identification/display.m shadows a built-in function"
      ]
     },
     "metadata": {},
     "output_type": "display_data"
    },
    {
     "name": "stdout",
     "output_type": "stream",
     "text": [
      "\u001b[?2004l\n",
      "warning: function /usr/local/Cellar/dynare/6.1/lib/dynare/matlab/+identification/display.m shadows a built-in function\n",
      "warning: function /usr/local/Cellar/dynare/6.1/lib/dynare/matlab/+identification/display.m shadows a built-in function\n",
      "warning: called from\n",
      "    _pyeval at line 57 column 30\n",
      "\n",
      "\u001b[?2004l\n",
      "warning: function /usr/local/Cellar/dynare/6.1/lib/dynare/matlab/+identification/display.m shadows a built-in function\n",
      "\u001b[?2004l\n",
      "warning: function /usr/local/Cellar/dynare/6.1/lib/dynare/matlab/+identification/display.m shadows a built-in function\n"
     ]
    },
    {
     "data": {
      "text/plain": [
       "\u001b[?2004l"
      ]
     },
     "metadata": {},
     "output_type": "display_data"
    },
    {
     "data": {
      "text/plain": [
       "warning: function /usr/local/Cellar/dynare/6.1/lib/dynare/matlab/+identification/display.m shadows a built-in function"
      ]
     },
     "metadata": {},
     "output_type": "display_data"
    },
    {
     "data": {
      "text/plain": [
       "warning: X13 binary is not available."
      ]
     },
     "metadata": {},
     "output_type": "display_data"
    },
    {
     "data": {
      "text/plain": [
       "If you are under Debian or Ubuntu, you can install it through your package manager, with 'apt install x13as'."
      ]
     },
     "metadata": {},
     "output_type": "display_data"
    },
    {
     "data": {
      "text/plain": [
       "If you are under Windows or macOS, this probably means that you did not install the dseries toolbox through an official package."
      ]
     },
     "metadata": {},
     "output_type": "display_data"
    },
    {
     "data": {
      "text/plain": [
       "Starting Dynare (version 6.1)."
      ]
     },
     "metadata": {},
     "output_type": "display_data"
    },
    {
     "data": {
      "text/plain": [
       "Calling Dynare with arguments: none"
      ]
     },
     "metadata": {},
     "output_type": "display_data"
    },
    {
     "data": {
      "text/plain": [
       "Starting preprocessing of the model file ..."
      ]
     },
     "metadata": {},
     "output_type": "display_data"
    },
    {
     "data": {
      "text/plain": [
       "Found 21 equation(s)."
      ]
     },
     "metadata": {},
     "output_type": "display_data"
    },
    {
     "data": {
      "text/plain": [
       "Evaluating expressions..."
      ]
     },
     "metadata": {},
     "output_type": "display_data"
    },
    {
     "data": {
      "text/plain": [
       "Computing static model derivatives (order 1)."
      ]
     },
     "metadata": {},
     "output_type": "display_data"
    },
    {
     "data": {
      "text/plain": [
       "Normalizing the static model..."
      ]
     },
     "metadata": {},
     "output_type": "display_data"
    },
    {
     "data": {
      "text/plain": [
       "Finding the optimal block decomposition of the static model..."
      ]
     },
     "metadata": {},
     "output_type": "display_data"
    },
    {
     "data": {
      "text/plain": [
       "5 block(s) found:"
      ]
     },
     "metadata": {},
     "output_type": "display_data"
    },
    {
     "data": {
      "text/plain": [
       "  4 recursive block(s) and 1 simultaneous block(s)."
      ]
     },
     "metadata": {},
     "output_type": "display_data"
    },
    {
     "data": {
      "text/plain": [
       "  the largest simultaneous block has 9 equation(s)"
      ]
     },
     "metadata": {},
     "output_type": "display_data"
    },
    {
     "data": {
      "text/plain": [
       "                                 and 9 feedback variable(s)."
      ]
     },
     "metadata": {},
     "output_type": "display_data"
    },
    {
     "data": {
      "text/plain": [
       "Computing dynamic model derivatives (order 1)."
      ]
     },
     "metadata": {},
     "output_type": "display_data"
    },
    {
     "data": {
      "text/plain": [
       "Normalizing the dynamic model..."
      ]
     },
     "metadata": {},
     "output_type": "display_data"
    },
    {
     "data": {
      "text/plain": [
       "Finding the optimal block decomposition of the dynamic model..."
      ]
     },
     "metadata": {},
     "output_type": "display_data"
    },
    {
     "data": {
      "text/plain": [
       "3 block(s) found:"
      ]
     },
     "metadata": {},
     "output_type": "display_data"
    },
    {
     "data": {
      "text/plain": [
       "  2 recursive block(s) and 1 simultaneous block(s)."
      ]
     },
     "metadata": {},
     "output_type": "display_data"
    },
    {
     "data": {
      "text/plain": [
       "  the largest simultaneous block has 9 equation(s)"
      ]
     },
     "metadata": {},
     "output_type": "display_data"
    },
    {
     "data": {
      "text/plain": [
       "                                 and 7 feedback variable(s)."
      ]
     },
     "metadata": {},
     "output_type": "display_data"
    },
    {
     "data": {
      "text/plain": [
       "Preprocessing completed."
      ]
     },
     "metadata": {},
     "output_type": "display_data"
    },
    {
     "data": {
      "text/plain": [
       "Preprocessing time: 0h00m00s."
      ]
     },
     "metadata": {},
     "output_type": "display_data"
    },
    {
     "data": {
      "text/plain": []
     },
     "metadata": {},
     "output_type": "display_data"
    },
    {
     "data": {
      "text/plain": []
     },
     "metadata": {},
     "output_type": "display_data"
    },
    {
     "data": {
      "text/plain": [
       "Residuals of the static equations:"
      ]
     },
     "metadata": {},
     "output_type": "display_data"
    },
    {
     "data": {
      "text/plain": [
       "Equation number  1: y              :       0.000000"
      ]
     },
     "metadata": {},
     "output_type": "display_data"
    },
    {
     "data": {
      "text/plain": [
       "Equation number  2: z              :       0.000000"
      ]
     },
     "metadata": {},
     "output_type": "display_data"
    },
    {
     "data": {
      "text/plain": [
       "Equation number  3: g              :       0.000000"
      ]
     },
     "metadata": {},
     "output_type": "display_data"
    },
    {
     "data": {
      "text/plain": [
       "Equation number  4: u              :       0.000000"
      ]
     },
     "metadata": {},
     "output_type": "display_data"
    },
    {
     "data": {
      "text/plain": [
       "Equation number  5: uc             :       0.000000"
      ]
     },
     "metadata": {},
     "output_type": "display_data"
    },
    {
     "data": {
      "text/plain": [
       "Equation number  6: ul             :       0.000000"
      ]
     },
     "metadata": {},
     "output_type": "display_data"
    },
    {
     "data": {
      "text/plain": [
       "Equation number  7: 7              :       0.000000"
      ]
     },
     "metadata": {},
     "output_type": "display_data"
    },
    {
     "data": {
      "text/plain": [
       "Equation number  8: 8              :       0.000000"
      ]
     },
     "metadata": {},
     "output_type": "display_data"
    },
    {
     "data": {
      "text/plain": [
       "Equation number  9: 9              :       0.000000"
      ]
     },
     "metadata": {},
     "output_type": "display_data"
    },
    {
     "data": {
      "text/plain": [
       "Equation number 10: 10             :       0.000000"
      ]
     },
     "metadata": {},
     "output_type": "display_data"
    },
    {
     "data": {
      "text/plain": [
       "Equation number 11: 11             :       0.000000"
      ]
     },
     "metadata": {},
     "output_type": "display_data"
    },
    {
     "data": {
      "text/plain": [
       "Equation number 12: invest         :       0.000000"
      ]
     },
     "metadata": {},
     "output_type": "display_data"
    },
    {
     "data": {
      "text/plain": [
       "Equation number 13: c_y            :       0.000000"
      ]
     },
     "metadata": {},
     "output_type": "display_data"
    },
    {
     "data": {
      "text/plain": [
       "Equation number 14: i_y            :       0.000000"
      ]
     },
     "metadata": {},
     "output_type": "display_data"
    },
    {
     "data": {
      "text/plain": [
       "Equation number 15: nx             :       0.000000"
      ]
     },
     "metadata": {},
     "output_type": "display_data"
    },
    {
     "data": {
      "text/plain": [
       "Equation number 16: i_y_percentage :       0.000000"
      ]
     },
     "metadata": {},
     "output_type": "display_data"
    },
    {
     "data": {
      "text/plain": [
       "Equation number 17: c_y_percentage :       0.000000"
      ]
     },
     "metadata": {},
     "output_type": "display_data"
    },
    {
     "data": {
      "text/plain": [
       "Equation number 18: log_y          :       0.000000"
      ]
     },
     "metadata": {},
     "output_type": "display_data"
    },
    {
     "data": {
      "text/plain": [
       "Equation number 19: log_c          :       0.000000"
      ]
     },
     "metadata": {},
     "output_type": "display_data"
    },
    {
     "data": {
      "text/plain": [
       "Equation number 20: log_i          :       0.000000"
      ]
     },
     "metadata": {},
     "output_type": "display_data"
    },
    {
     "data": {
      "text/plain": [
       "Equation number 21: delta_y        :       0.000000"
      ]
     },
     "metadata": {},
     "output_type": "display_data"
    },
    {
     "data": {
      "text/plain": []
     },
     "metadata": {},
     "output_type": "display_data"
    },
    {
     "data": {
      "text/plain": []
     },
     "metadata": {},
     "output_type": "display_data"
    },
    {
     "data": {
      "text/plain": [
       "warning: Some of the parameters have no value (b_star, r_star) when using steady. If these parameters are not initialized in a steadystate file or a steady_state_model-block, Dynare may not be able to solve the model. Note that simul, perfect_foresight_setup, and perfect_foresight_solver do not automatically call the steady state file."
      ]
     },
     "metadata": {},
     "output_type": "display_data"
    },
    {
     "data": {
      "text/plain": []
     },
     "metadata": {},
     "output_type": "display_data"
    },
    {
     "data": {
      "text/plain": [
       "STEADY-STATE RESULTS:"
      ]
     },
     "metadata": {},
     "output_type": "display_data"
    },
    {
     "data": {
      "text/plain": []
     },
     "metadata": {},
     "output_type": "display_data"
    },
    {
     "data": {
      "text/plain": [
       "c              \t\t 0.496156"
      ]
     },
     "metadata": {},
     "output_type": "display_data"
    },
    {
     "data": {
      "text/plain": [
       "k              \t\t 2.60788"
      ]
     },
     "metadata": {},
     "output_type": "display_data"
    },
    {
     "data": {
      "text/plain": [
       "y              \t\t 0.645177"
      ]
     },
     "metadata": {},
     "output_type": "display_data"
    },
    {
     "data": {
      "text/plain": [
       "b              \t\t 0.0645177"
      ]
     },
     "metadata": {},
     "output_type": "display_data"
    },
    {
     "data": {
      "text/plain": [
       "q              \t\t 0.97166"
      ]
     },
     "metadata": {},
     "output_type": "display_data"
    },
    {
     "data": {
      "text/plain": [
       "g              \t\t 0.00657832"
      ]
     },
     "metadata": {},
     "output_type": "display_data"
    },
    {
     "data": {
      "text/plain": [
       "l              \t\t 0.332169"
      ]
     },
     "metadata": {},
     "output_type": "display_data"
    },
    {
     "data": {
      "text/plain": [
       "u              \t\t -1.66644"
      ]
     },
     "metadata": {},
     "output_type": "display_data"
    },
    {
     "data": {
      "text/plain": [
       "z              \t\t 0"
      ]
     },
     "metadata": {},
     "output_type": "display_data"
    },
    {
     "data": {
      "text/plain": [
       "uc             \t\t 1.20914"
      ]
     },
     "metadata": {},
     "output_type": "display_data"
    },
    {
     "data": {
      "text/plain": [
       "ul             \t\t -1.597"
      ]
     },
     "metadata": {},
     "output_type": "display_data"
    },
    {
     "data": {
      "text/plain": [
       "c_y            \t\t 0.769023"
      ]
     },
     "metadata": {},
     "output_type": "display_data"
    },
    {
     "data": {
      "text/plain": [
       "i_y            \t\t 0.228784"
      ]
     },
     "metadata": {},
     "output_type": "display_data"
    },
    {
     "data": {
      "text/plain": [
       "invest         \t\t 0.147606"
      ]
     },
     "metadata": {},
     "output_type": "display_data"
    },
    {
     "data": {
      "text/plain": [
       "nx             \t\t 0.00219269"
      ]
     },
     "metadata": {},
     "output_type": "display_data"
    },
    {
     "data": {
      "text/plain": [
       "i_y_percentage \t\t -1.47498"
      ]
     },
     "metadata": {},
     "output_type": "display_data"
    },
    {
     "data": {
      "text/plain": [
       "c_y_percentage \t\t -0.262634"
      ]
     },
     "metadata": {},
     "output_type": "display_data"
    },
    {
     "data": {
      "text/plain": [
       "log_y          \t\t -0.438231"
      ]
     },
     "metadata": {},
     "output_type": "display_data"
    },
    {
     "data": {
      "text/plain": [
       "log_c          \t\t -0.700865"
      ]
     },
     "metadata": {},
     "output_type": "display_data"
    },
    {
     "data": {
      "text/plain": [
       "log_i          \t\t -1.91321"
      ]
     },
     "metadata": {},
     "output_type": "display_data"
    },
    {
     "data": {
      "text/plain": [
       "delta_y        \t\t 0.00657832"
      ]
     },
     "metadata": {},
     "output_type": "display_data"
    },
    {
     "data": {
      "text/plain": []
     },
     "metadata": {},
     "output_type": "display_data"
    },
    {
     "data": {
      "text/plain": [
       "EIGENVALUES:"
      ]
     },
     "metadata": {},
     "output_type": "display_data"
    },
    {
     "data": {
      "text/plain": [
       "         Modulus             Real        Imaginary"
      ]
     },
     "metadata": {},
     "output_type": "display_data"
    },
    {
     "data": {
      "text/plain": [
       "               0                0                0"
      ]
     },
     "metadata": {},
     "output_type": "display_data"
    },
    {
     "data": {
      "text/plain": [
       "            0.01             0.01                0"
      ]
     },
     "metadata": {},
     "output_type": "display_data"
    },
    {
     "data": {
      "text/plain": [
       "          0.9158           0.9158                0"
      ]
     },
     "metadata": {},
     "output_type": "display_data"
    },
    {
     "data": {
      "text/plain": [
       "            0.95             0.95                0"
      ]
     },
     "metadata": {},
     "output_type": "display_data"
    },
    {
     "data": {
      "text/plain": [
       "          0.9827           0.9827                0"
      ]
     },
     "metadata": {},
     "output_type": "display_data"
    },
    {
     "data": {
      "text/plain": [
       "            1.04             1.04                0"
      ]
     },
     "metadata": {},
     "output_type": "display_data"
    },
    {
     "data": {
      "text/plain": [
       "           1.116            1.116                0"
      ]
     },
     "metadata": {},
     "output_type": "display_data"
    },
    {
     "data": {
      "text/plain": [
       "             Inf              Inf                0"
      ]
     },
     "metadata": {},
     "output_type": "display_data"
    },
    {
     "data": {
      "text/plain": [
       "             Inf              Inf                0"
      ]
     },
     "metadata": {},
     "output_type": "display_data"
    },
    {
     "data": {
      "text/plain": []
     },
     "metadata": {},
     "output_type": "display_data"
    },
    {
     "data": {
      "text/plain": [
       "There are 4 eigenvalue(s) larger than 1 in modulus for 4 forward-looking variable(s)"
      ]
     },
     "metadata": {},
     "output_type": "display_data"
    },
    {
     "data": {
      "text/plain": [
       "The rank condition is verified."
      ]
     },
     "metadata": {},
     "output_type": "display_data"
    },
    {
     "data": {
      "text/plain": []
     },
     "metadata": {},
     "output_type": "display_data"
    },
    {
     "data": {
      "text/plain": []
     },
     "metadata": {},
     "output_type": "display_data"
    },
    {
     "data": {
      "text/plain": [
       "MODEL SUMMARY"
      ]
     },
     "metadata": {},
     "output_type": "display_data"
    },
    {
     "data": {
      "text/plain": []
     },
     "metadata": {},
     "output_type": "display_data"
    },
    {
     "data": {
      "text/plain": [
       "  Number of variables:         21"
      ]
     },
     "metadata": {},
     "output_type": "display_data"
    },
    {
     "data": {
      "text/plain": [
       "  Number of stochastic shocks: 2"
      ]
     },
     "metadata": {},
     "output_type": "display_data"
    },
    {
     "data": {
      "text/plain": [
       "  Number of state variables:   5"
      ]
     },
     "metadata": {},
     "output_type": "display_data"
    },
    {
     "data": {
      "text/plain": [
       "  Number of jumpers:           4"
      ]
     },
     "metadata": {},
     "output_type": "display_data"
    },
    {
     "data": {
      "text/plain": [
       "  Number of static variables:  15"
      ]
     },
     "metadata": {},
     "output_type": "display_data"
    },
    {
     "data": {
      "text/plain": []
     },
     "metadata": {},
     "output_type": "display_data"
    },
    {
     "data": {
      "text/plain": []
     },
     "metadata": {},
     "output_type": "display_data"
    },
    {
     "data": {
      "text/plain": [
       "MATRIX OF COVARIANCE OF EXOGENOUS SHOCKS"
      ]
     },
     "metadata": {},
     "output_type": "display_data"
    },
    {
     "data": {
      "text/plain": [
       "Variables       eps_z     eps_g"
      ]
     },
     "metadata": {},
     "output_type": "display_data"
    },
    {
     "data": {
      "text/plain": [
       "eps_z        1.000000  0.000000"
      ]
     },
     "metadata": {},
     "output_type": "display_data"
    },
    {
     "data": {
      "text/plain": [
       "eps_g        0.000000  1.000000"
      ]
     },
     "metadata": {},
     "output_type": "display_data"
    },
    {
     "data": {
      "text/plain": []
     },
     "metadata": {},
     "output_type": "display_data"
    },
    {
     "data": {
      "text/plain": [
       "qt.qpa.fonts: Populating font family aliases took 74 ms. Replace uses of missing font family \"FreeSans\" with one that exists to avoid this cost."
      ]
     },
     "metadata": {},
     "output_type": "display_data"
    },
    {
     "data": {
      "text/plain": [
       "qt.qpa.fonts: Populating font family aliases took 73 ms. Replace uses of missing font family \"FreeSans\" with one that exists to avoid this cost."
      ]
     },
     "metadata": {},
     "output_type": "display_data"
    },
    {
     "data": {
      "text/plain": []
     },
     "metadata": {},
     "output_type": "display_data"
    },
    {
     "data": {
      "text/plain": [
       "MODEL SUMMARY"
      ]
     },
     "metadata": {},
     "output_type": "display_data"
    },
    {
     "data": {
      "text/plain": []
     },
     "metadata": {},
     "output_type": "display_data"
    },
    {
     "data": {
      "text/plain": [
       "  Number of variables:         21"
      ]
     },
     "metadata": {},
     "output_type": "display_data"
    },
    {
     "data": {
      "text/plain": [
       "  Number of stochastic shocks: 2"
      ]
     },
     "metadata": {},
     "output_type": "display_data"
    },
    {
     "data": {
      "text/plain": [
       "  Number of state variables:   5"
      ]
     },
     "metadata": {},
     "output_type": "display_data"
    },
    {
     "data": {
      "text/plain": [
       "  Number of jumpers:           4"
      ]
     },
     "metadata": {},
     "output_type": "display_data"
    },
    {
     "data": {
      "text/plain": [
       "  Number of static variables:  15"
      ]
     },
     "metadata": {},
     "output_type": "display_data"
    },
    {
     "data": {
      "text/plain": []
     },
     "metadata": {},
     "output_type": "display_data"
    },
    {
     "data": {
      "text/plain": []
     },
     "metadata": {},
     "output_type": "display_data"
    },
    {
     "data": {
      "text/plain": [
       "MATRIX OF COVARIANCE OF EXOGENOUS SHOCKS"
      ]
     },
     "metadata": {},
     "output_type": "display_data"
    },
    {
     "data": {
      "text/plain": [
       "Variables       eps_z     eps_g"
      ]
     },
     "metadata": {},
     "output_type": "display_data"
    },
    {
     "data": {
      "text/plain": [
       "eps_z        1.000000  0.000000"
      ]
     },
     "metadata": {},
     "output_type": "display_data"
    },
    {
     "data": {
      "text/plain": [
       "eps_g        0.000000  1.000000"
      ]
     },
     "metadata": {},
     "output_type": "display_data"
    },
    {
     "data": {
      "text/plain": []
     },
     "metadata": {},
     "output_type": "display_data"
    },
    {
     "data": {
      "text/plain": []
     },
     "metadata": {},
     "output_type": "display_data"
    },
    {
     "data": {
      "text/plain": [
       "MODEL SUMMARY"
      ]
     },
     "metadata": {},
     "output_type": "display_data"
    },
    {
     "data": {
      "text/plain": []
     },
     "metadata": {},
     "output_type": "display_data"
    },
    {
     "data": {
      "text/plain": [
       "  Number of variables:         21"
      ]
     },
     "metadata": {},
     "output_type": "display_data"
    },
    {
     "data": {
      "text/plain": [
       "  Number of stochastic shocks: 2"
      ]
     },
     "metadata": {},
     "output_type": "display_data"
    },
    {
     "data": {
      "text/plain": [
       "  Number of state variables:   5"
      ]
     },
     "metadata": {},
     "output_type": "display_data"
    },
    {
     "data": {
      "text/plain": [
       "  Number of jumpers:           4"
      ]
     },
     "metadata": {},
     "output_type": "display_data"
    },
    {
     "data": {
      "text/plain": [
       "  Number of static variables:  15"
      ]
     },
     "metadata": {},
     "output_type": "display_data"
    },
    {
     "data": {
      "text/plain": []
     },
     "metadata": {},
     "output_type": "display_data"
    },
    {
     "data": {
      "text/plain": []
     },
     "metadata": {},
     "output_type": "display_data"
    },
    {
     "data": {
      "text/plain": [
       "MATRIX OF COVARIANCE OF EXOGENOUS SHOCKS"
      ]
     },
     "metadata": {},
     "output_type": "display_data"
    },
    {
     "data": {
      "text/plain": [
       "Variables       eps_z     eps_g"
      ]
     },
     "metadata": {},
     "output_type": "display_data"
    },
    {
     "data": {
      "text/plain": [
       "eps_z        0.000023  0.000000"
      ]
     },
     "metadata": {},
     "output_type": "display_data"
    },
    {
     "data": {
      "text/plain": [
       "eps_g        0.000000  0.000790"
      ]
     },
     "metadata": {},
     "output_type": "display_data"
    },
    {
     "data": {
      "text/plain": []
     },
     "metadata": {},
     "output_type": "display_data"
    },
    {
     "data": {
      "text/plain": []
     },
     "metadata": {},
     "output_type": "display_data"
    },
    {
     "data": {
      "text/plain": [
       " Table 5 - Moments"
      ]
     },
     "metadata": {},
     "output_type": "display_data"
    },
    {
     "data": {
      "text/plain": [
       "            sigma(y) \t 2.41"
      ]
     },
     "metadata": {},
     "output_type": "display_data"
    },
    {
     "data": {
      "text/plain": [
       "      sigma(delta y) \t 1.73"
      ]
     },
     "metadata": {},
     "output_type": "display_data"
    },
    {
     "data": {
      "text/plain": [
       "   sigma(c)/sigma(y) \t 1.26"
      ]
     },
     "metadata": {},
     "output_type": "display_data"
    },
    {
     "data": {
      "text/plain": [
       "   sigma(i)/sigma(y) \t 2.59"
      ]
     },
     "metadata": {},
     "output_type": "display_data"
    },
    {
     "data": {
      "text/plain": [
       "  sigma(nx)/sigma(y) \t 0.71"
      ]
     },
     "metadata": {},
     "output_type": "display_data"
    },
    {
     "data": {
      "text/plain": [
       "              rho(y) \t 0.78"
      ]
     },
     "metadata": {},
     "output_type": "display_data"
    },
    {
     "data": {
      "text/plain": [
       "        rho(delta y) \t 0.13"
      ]
     },
     "metadata": {},
     "output_type": "display_data"
    },
    {
     "data": {
      "text/plain": [
       "           rho(y,nx) \t -0.66"
      ]
     },
     "metadata": {},
     "output_type": "display_data"
    },
    {
     "data": {
      "text/plain": [
       "            rho(y,c) \t 0.94"
      ]
     },
     "metadata": {},
     "output_type": "display_data"
    },
    {
     "data": {
      "text/plain": [
       "            rho(y,i) \t 0.92"
      ]
     },
     "metadata": {},
     "output_type": "display_data"
    },
    {
     "data": {
      "text/plain": [
       "Total computing time : 0h00m16s"
      ]
     },
     "metadata": {},
     "output_type": "display_data"
    },
    {
     "data": {
      "text/plain": [
       "Note: warning(s) encountered in MATLAB/Octave code"
      ]
     },
     "metadata": {},
     "output_type": "display_data"
    },
    {
     "data": {
      "image/png": "[encoded data removed]",
      "text/plain": [
       "<IPython.core.display.Image object>"
      ]
     },
     "metadata": {},
     "output_type": "display_data"
    },
    {
     "data": {
      "image/png": "[encoded data removed]",
      "text/plain": [
       "<IPython.core.display.Image object>"
      ]
     },
     "metadata": {},
     "output_type": "display_data"
    },
    {
     "data": {
      "image/png": "[encoded data removed]",
      "text/plain": [
       "<IPython.core.display.Image object>"
      ]
     },
     "metadata": {},
     "output_type": "display_data"
    },
    {
     "data": {
      "text/plain": [
       "array([[ 0.00000000e+00],\n",
       "       [ 0.00000000e+00],\n",
       "       [ 0.00000000e+00],\n",
       "       [ 0.00000000e+00],\n",
       "       [ 0.00000000e+00],\n",
       "       [ 0.00000000e+00],\n",
       "       [ 0.00000000e+00],\n",
       "       [ 0.00000000e+00],\n",
       "       [-2.22044605e-16],\n",
       "       [ 0.00000000e+00],\n",
       "       [ 0.00000000e+00],\n",
       "       [ 1.66533454e-16],\n",
       "       [ 0.00000000e+00],\n",
       "       [-2.49800181e-16],\n",
       "       [-1.93855348e-16],\n",
       "       [ 0.00000000e+00],\n",
       "       [ 0.00000000e+00],\n",
       "       [ 0.00000000e+00],\n",
       "       [ 0.00000000e+00],\n",
       "       [ 0.00000000e+00],\n",
       "       [ 0.00000000e+00]])"
      ]
     },
     "execution_count": 3,
     "metadata": {},
     "output_type": "execute_result"
    }
   ],
   "source": [
    "%octave addpath /usr/local/lib/dynare/matlab\n",
    "%octave dynare Aguiar_Gopinath_2007_notebook.mod"
   ]
  },
  {
   "cell_type": "code",
   "execution_count": 8,
   "metadata": {},
   "outputs": [
    {
     "name": "stdout",
     "output_type": "stream",
     "text": [
      "Overwriting Aguiar_Gopinath_2007_notebook_2.mod\n"
     ]
    }
   ],
   "source": [
    "%%writefile Aguiar_Gopinath_2007_notebook_2.mod\n",
    "\n",
    "/*\n",
    " * This file replicates the model studied in:\n",
    " * Aguiar, Mark and Gopinath, Gita (2007): \"Emerging Market Business Cycles:\n",
    " * The Cycle is the Trend\", Journal of Political Economy, 115(1), pp. 69-102.\n",
    " * \n",
    " * It provides a full replication of the main results of the original paper  \n",
    " * for the benchmark calibration. In contrast to the agmodel.mod distributed \n",
    " * with Dynare, it calibrates the debt to GDP ratio to exactly 0.1 by analytically\n",
    " * computing the steady state.\n",
    " *\n",
    " * This mod-file shows how to deal with trend growth and how to \n",
    " * recover the non-stationary variables from the detrended model variables.\n",
    " * \n",
    " * Notes:\n",
    " * - The original paper uses theoretical HP-filtered moments for the \n",
    " *   non-stationary time series. As Dynare only provides theoretical HP-filtered\n",
    " *   moments for stationary time series, the current mod-file instead uses\n",
    " *   simulated moments. This results in small moments differences in the second \n",
    " *   digit.\n",
    " * - The FOC wrt capital is simplified to a lesser degree than the one in agtrend.mod\n",
    " *   to make explicit the use of the product rule.\n",
    " * - The paper uses NX to denote net exports as a share of GDP, not the net export level\n",
    " *\n",
    " * This implementation was written by Johannes Pfeifer. \n",
    " * Please note that the following copyright notice only applies to this Dynare \n",
    " * implementation of the model.\n",
    " */\n",
    "\n",
    "/*\n",
    " * Copyright (C) 2013-2024 Johannes Pfeifer\n",
    " *\n",
    " * This is free software: you can redistribute it and/or modify\n",
    " * it under the terms of the GNU General Public License as published by\n",
    " * the Free Software Foundation, either version 3 of the License, or\n",
    " * (at your option) any later version.\n",
    " *\n",
    " * It is distributed in the hope that it will be useful,\n",
    " * but WITHOUT ANY WARRANTY; without even the implied warranty of\n",
    " * MERCHANTABILITY or FITNESS FOR A PARTICULAR PURPOSE.  See the\n",
    " * GNU General Public License for more details.\n",
    " *\n",
    " * For a copy of the GNU General Public License,\n",
    " * see <http://www.gnu.org/licenses/>.\n",
    " */\n",
    "\n",
    "var c k y b q g l u z uc ul c_y i_y invest nx i_y_percentage c_y_percentage \n",
    "    log_y log_c log_i\n",
    "    delta_y;\n",
    "\n",
    "predetermined_variables k b; //allows using beginning of period stock notation\n",
    "\n",
    "varexo eps_z eps_g;\n",
    "\n",
    "parameters mu_g sigma rho_g delta phi psi b_star alpha rho_z r_star beta gamma b_share;\n",
    "\n",
    "// Set the following variable to 0 to get the calibration for Canada\n",
    "@#define mexico = 1\n",
    "\n",
    "\n",
    "// Benchmark parameter values (Table 3)\n",
    "beta = 1/1.02;\n",
    "gamma = 0.36;\n",
    "b_share   = 0.1; //10% of GDP\n",
    "psi = 0.001;\n",
    "alpha = 0.68;\n",
    "sigma = 2;\n",
    "delta = 0.05;\n",
    "phi = 4;\n",
    "\n",
    "// Estimated parameters (Table 4)\n",
    "@#if mexico == 1\n",
    "mu_g = log(1.0066); //is used for benchmark although not mentioned in Table 3\n",
    "rho_z = 0.95;\n",
    "rho_g = 0.01;\n",
    "@# else\n",
    "mu_g = log(1.0073); //is used for benchmark although not mentioned in Table 3\n",
    "rho_z = 0.95;\n",
    "rho_g = 0.01;\n",
    "@# endif\n",
    "\n",
    "//compute steady state values and calibrate the model to a steady state debt to GDP \n",
    "//ratio of 0.1\n",
    " \n",
    "model;\n",
    "y = exp(z)*k^(1-alpha)*(exp(g)*l)^alpha; // Production function (1)\n",
    "z = rho_z*z(-1)+eps_z; // Definition transitory shock (2)\n",
    "g = (1-rho_g)*mu_g+rho_g*g(-1)+eps_g; // Definition trend shock \n",
    "u = (c^gamma*(1-l)^(1-gamma))^(1-sigma)/(1-sigma); // Cobb-Douglas utility function (3)\n",
    "uc = gamma*u/c*(1-sigma); //Marginal utility\n",
    "ul = -(1-gamma)*u/(1-l)*(1-sigma); //Disutility of labor\n",
    "c+exp(g)*k(+1)=y+(1-delta)*k-phi/2*(exp(g)*k(+1)/k-exp(mu_g))^2*k-b+q*exp(g)*b(+1); // Resource constraint (7)\n",
    "1/q = 1+r_star+psi*(exp(b(+1)-b_star)-1); // Price of debt (5)\n",
    "uc*(1+phi*(exp(g)*k(+1)/k-exp(mu_g)))*exp(g)=beta*exp(g*(gamma*(1-sigma)))*uc(+1)*(1-delta+(1-alpha)*y(+1)/k(+1)\n",
    "                                                  -phi/2*(2*(exp(g(+1))*k(+2)/k(+1)-exp(mu_g))*(-1)*exp(g(+1))*k(+2)/k(+1)+\n",
    "                                                          (exp(g(+1))*k(+2)/k(+1)-exp(mu_g))^2)); // FOC wrt to capital\n",
    "ul+uc*alpha*y/l=0; // FOC wrt labor \n",
    "uc*exp(g)*q=beta*exp(g*(gamma*(1-sigma)))*uc(+1); // Euler equation for Bonds\n",
    "invest = exp(g)*k(+1)-(1-delta)*k+phi/2*(exp(g)*k(+1)/k-exp(mu_g))^2*k; // Law of motion for capital (8)\n",
    "\n",
    "//Definitional equations used for IRFs and moment computations\n",
    "c_y = c/y; // Consumption to GDP ratio\n",
    "i_y = invest/y; // Investment to GDP ratio\n",
    "nx=(b-exp(g)*q*b(+1))/y; //Net export to GDP ratio\n",
    "\n",
    "//Use logarithm to get variables in percentage deviations\n",
    "i_y_percentage=log(i_y);\n",
    "c_y_percentage=log(c_y);\n",
    "log_y=log(y);\n",
    "log_c=log(c);\n",
    "log_i=log(invest);\n",
    "\n",
    "//Define growth rate of output\n",
    "delta_y=log(y)-log(y(-1))+g(-1);\n",
    "end;\n",
    "\n",
    "steady_state_model;\n",
    "q=beta*exp(mu_g)^(gamma*(1-sigma)-1);\n",
    "YKbar=((1/q)-(1-delta))/(1-alpha);\n",
    "c_y=1+(1-exp(mu_g)-delta)*(1/YKbar)-(1-exp(mu_g)*q)*b_share;\n",
    "l=(alpha*gamma)/(c_y-gamma*c_y+alpha*gamma);\n",
    "k=(((exp(mu_g)^alpha)*(l^alpha))/YKbar)^(1/alpha);\n",
    "y=k^(1-alpha)*(l*exp(mu_g))^alpha;\n",
    "c=c_y*y;\n",
    "invest=(exp(mu_g)-1+delta)*k;\n",
    "b_star=b_share*y;\n",
    "nx=(y-c-invest)/y;\n",
    "r_star = 1/q-1;\n",
    "\n",
    "b = b_star;\n",
    "z = 0;\n",
    "g = mu_g;\n",
    "u = (c^gamma*(1-l)^(1-gamma))^(1-sigma)/(1-sigma);\n",
    "uc = gamma*u/c*(1-sigma);\n",
    "ul = -(1-gamma)*u/(1-l)*(1-sigma);\n",
    "i_y = (exp(g)*k-(1-delta)*k)/y;\n",
    "i_y_percentage=log(i_y);\n",
    "c_y_percentage=log(c_y);\n",
    "log_y=log(y);\n",
    "log_c=log(c);\n",
    "log_i=log(invest);\n",
    "delta_y=mu_g;\n",
    "end;\n",
    "\n",
    "\n",
    "//%%%%%%%%%%%%%%%%% Replicate Table 5, p. 94-95  %%%%%%%%%%%%%%%%%%%%%%%%%\n",
    "//%%%%%%%%%%%%%%%%% Panel A, Column 2 (specification 1) %%%%%%%%%%%%%%%%%%\n",
    "\n",
    "//reset shocks to specification 1 of Table 4\n",
    "@#if mexico == 1\n",
    "shocks;\n",
    "var eps_g; stderr 2.7454/100;\n",
    "var eps_z; stderr 0.9735/100;\n",
    "end;\n",
    "@# else\n",
    "shocks;\n",
    "var eps_g; stderr 1.4982/100;\n",
    "var eps_z; stderr 0.7025/100;\n",
    "end;\n",
    "@# endif\n",
    "\n",
    "\n",
    "// Simulate series on which to compute moments (Paper uses analytical moments)\n",
    "stoch_simul(irf=0,order=1,periods=100000,nomoments,nofunctions) log_y delta_y c invest nx;\n",
    "send_endogenous_variables_to_workspace;    \n",
    "\n",
    "// Rebuild non-stationary time series by remultiplying with trend Gamma_{t-1}\n",
    "\n",
    "log_Gamma_0=0; //Initialize Level of Technology at t=0;\n",
    "log_Gamma(1,1)=g(1,1)+log_Gamma_0; //Level of Tech. after shock in period 1\n",
    "\n",
    "// reaccumulate the non-stationary level series\n",
    "log_y_nonstationary = zeros(options_.periods,1);\n",
    "log_c_nonstationary = zeros(options_.periods,1);\n",
    "log_i_nonstationary = zeros(options_.periods,1);\n",
    "for ii=2:options_.periods\n",
    "    log_Gamma(ii,1)=g(ii,1)+log_Gamma(ii-1,1);\n",
    "    log_y_nonstationary(ii,1)=log_y(ii,1)+log_Gamma(ii-1,1);\n",
    "    log_c_nonstationary(ii,1)=log_c(ii,1)+log_Gamma(ii-1,1);\n",
    "    log_i_nonstationary(ii,1)=log_i(ii,1)+log_Gamma(ii-1,1);\n",
    "end\n",
    "\n",
    "// HP-filter the non-stationary time series; note that nx is share of \n",
    "// net exports in GDP and does not contain a trend by construction \n",
    "\n",
    "[ytrend,ycyclical]=sample_hp_filter([log_y_nonstationary log_c_nonstationary log_i_nonstationary nx],1600);\n",
    "\n",
    "//compute standard deviations\n",
    "standard_devs=std(ycyclical)*100;\n",
    "standard_dev_first_diff=std(delta_y)*100;\n",
    "\n",
    "//compute relative standard deviations\n",
    "relative_standard_devs=standard_devs./standard_devs(1);\n",
    "\n",
    "//compute autocorrelations\n",
    "autocorrelations(1,1)=corr(ycyclical(2:end,1),ycyclical(1:end-1,1));\n",
    "autocorrelations(2,1)=corr(delta_y(2:end,1),delta_y(1:end-1,1));\n",
    "\n",
    "//compute correlations\n",
    "correlations=corr(ycyclical(:,1),ycyclical(:,2:end));\n",
    "\n",
    "//Display everything\n",
    "fprintf('\\n Table 5 - Moments Mexico \\n');\n",
    "fprintf('%20s \\t %3.2f\\n','sigma(y)',standard_devs(1,1));\n",
    "fprintf('%20s \\t %3.2f\\n','sigma(delta y)',standard_dev_first_diff);\n",
    "fprintf('%20s \\t %3.2f\\n','sigma(c)/sigma(y)',relative_standard_devs(2));\n",
    "fprintf('%20s \\t %3.2f\\n','sigma(i)/sigma(y)',relative_standard_devs(3));\n",
    "fprintf('%20s \\t %3.2f\\n','sigma(nx)/sigma(y)',relative_standard_devs(4));\n",
    "fprintf('%20s \\t %3.2f\\n','rho(y)',autocorrelations(1,1));\n",
    "fprintf('%20s \\t %3.2f\\n','rho(delta y)',autocorrelations(2,1));\n",
    "fprintf('%20s \\t %3.2f\\n','rho(y,nx)',correlations(3));\n",
    "fprintf('%20s \\t %3.2f\\n','rho(y,c)',correlations(1));\n",
    "fprintf('%20s \\t %3.2f\\n','rho(y,i)',correlations(2));"
   ]
  },
  {
   "cell_type": "code",
   "execution_count": 9,
   "metadata": {},
   "outputs": [
    {
     "data": {
      "text/plain": [
       "\u001b[?2004l"
      ]
     },
     "metadata": {},
     "output_type": "display_data"
    },
    {
     "data": {
      "text/plain": [
       "\u001b[?2004l"
      ]
     },
     "metadata": {},
     "output_type": "display_data"
    },
    {
     "name": "stdout",
     "output_type": "stream",
     "text": [
      "\u001b[?2004l\n",
      "\u001b[?2004l\n",
      "\u001b[?2004l\n"
     ]
    },
    {
     "data": {
      "text/plain": [
       "\u001b[?2004l"
      ]
     },
     "metadata": {},
     "output_type": "display_data"
    },
    {
     "data": {
      "text/plain": [
       "warning: X13 binary is not available."
      ]
     },
     "metadata": {},
     "output_type": "display_data"
    },
    {
     "data": {
      "text/plain": [
       "If you are under Debian or Ubuntu, you can install it through your package manager, with 'apt install x13as'."
      ]
     },
     "metadata": {},
     "output_type": "display_data"
    },
    {
     "data": {
      "text/plain": [
       "If you are under Windows or macOS, this probably means that you did not install the dseries toolbox through an official package."
      ]
     },
     "metadata": {},
     "output_type": "display_data"
    },
    {
     "data": {
      "text/plain": [
       "Starting Dynare (version 6.1)."
      ]
     },
     "metadata": {},
     "output_type": "display_data"
    },
    {
     "data": {
      "text/plain": [
       "Calling Dynare with arguments: none"
      ]
     },
     "metadata": {},
     "output_type": "display_data"
    },
    {
     "data": {
      "text/plain": [
       "Starting preprocessing of the model file ..."
      ]
     },
     "metadata": {},
     "output_type": "display_data"
    },
    {
     "data": {
      "text/plain": [
       "Found 21 equation(s)."
      ]
     },
     "metadata": {},
     "output_type": "display_data"
    },
    {
     "data": {
      "text/plain": [
       "Evaluating expressions..."
      ]
     },
     "metadata": {},
     "output_type": "display_data"
    },
    {
     "data": {
      "text/plain": [
       "Computing static model derivatives (order 1)."
      ]
     },
     "metadata": {},
     "output_type": "display_data"
    },
    {
     "data": {
      "text/plain": [
       "Normalizing the static model..."
      ]
     },
     "metadata": {},
     "output_type": "display_data"
    },
    {
     "data": {
      "text/plain": [
       "Finding the optimal block decomposition of the static model..."
      ]
     },
     "metadata": {},
     "output_type": "display_data"
    },
    {
     "data": {
      "text/plain": [
       "5 block(s) found:"
      ]
     },
     "metadata": {},
     "output_type": "display_data"
    },
    {
     "data": {
      "text/plain": [
       "  4 recursive block(s) and 1 simultaneous block(s)."
      ]
     },
     "metadata": {},
     "output_type": "display_data"
    },
    {
     "data": {
      "text/plain": [
       "  the largest simultaneous block has 9 equation(s)"
      ]
     },
     "metadata": {},
     "output_type": "display_data"
    },
    {
     "data": {
      "text/plain": [
       "                                 and 9 feedback variable(s)."
      ]
     },
     "metadata": {},
     "output_type": "display_data"
    },
    {
     "data": {
      "text/plain": [
       "Computing dynamic model derivatives (order 1)."
      ]
     },
     "metadata": {},
     "output_type": "display_data"
    },
    {
     "data": {
      "text/plain": [
       "Normalizing the dynamic model..."
      ]
     },
     "metadata": {},
     "output_type": "display_data"
    },
    {
     "data": {
      "text/plain": [
       "Finding the optimal block decomposition of the dynamic model..."
      ]
     },
     "metadata": {},
     "output_type": "display_data"
    },
    {
     "data": {
      "text/plain": [
       "3 block(s) found:"
      ]
     },
     "metadata": {},
     "output_type": "display_data"
    },
    {
     "data": {
      "text/plain": [
       "  2 recursive block(s) and 1 simultaneous block(s)."
      ]
     },
     "metadata": {},
     "output_type": "display_data"
    },
    {
     "data": {
      "text/plain": [
       "  the largest simultaneous block has 9 equation(s)"
      ]
     },
     "metadata": {},
     "output_type": "display_data"
    },
    {
     "data": {
      "text/plain": [
       "                                 and 7 feedback variable(s)."
      ]
     },
     "metadata": {},
     "output_type": "display_data"
    },
    {
     "data": {
      "text/plain": [
       "Preprocessing completed."
      ]
     },
     "metadata": {},
     "output_type": "display_data"
    },
    {
     "data": {
      "text/plain": [
       "Preprocessing time: 0h00m00s."
      ]
     },
     "metadata": {},
     "output_type": "display_data"
    },
    {
     "data": {
      "text/plain": [
       "warning: Some of the parameters have no value (b_star, r_star) when using stoch_simul. If these parameters are not initialized in a steadystate file or a steady_state_model-block, Dynare may not be able to solve the model. Note that simul, perfect_foresight_setup, and perfect_foresight_solver do not automatically call the steady state file."
      ]
     },
     "metadata": {},
     "output_type": "display_data"
    },
    {
     "data": {
      "text/plain": []
     },
     "metadata": {},
     "output_type": "display_data"
    },
    {
     "data": {
      "text/plain": [
       "MODEL SUMMARY"
      ]
     },
     "metadata": {},
     "output_type": "display_data"
    },
    {
     "data": {
      "text/plain": []
     },
     "metadata": {},
     "output_type": "display_data"
    },
    {
     "data": {
      "text/plain": [
       "  Number of variables:         21"
      ]
     },
     "metadata": {},
     "output_type": "display_data"
    },
    {
     "data": {
      "text/plain": [
       "  Number of stochastic shocks: 2"
      ]
     },
     "metadata": {},
     "output_type": "display_data"
    },
    {
     "data": {
      "text/plain": [
       "  Number of state variables:   5"
      ]
     },
     "metadata": {},
     "output_type": "display_data"
    },
    {
     "data": {
      "text/plain": [
       "  Number of jumpers:           4"
      ]
     },
     "metadata": {},
     "output_type": "display_data"
    },
    {
     "data": {
      "text/plain": [
       "  Number of static variables:  15"
      ]
     },
     "metadata": {},
     "output_type": "display_data"
    },
    {
     "data": {
      "text/plain": []
     },
     "metadata": {},
     "output_type": "display_data"
    },
    {
     "data": {
      "text/plain": []
     },
     "metadata": {},
     "output_type": "display_data"
    },
    {
     "data": {
      "text/plain": [
       "MATRIX OF COVARIANCE OF EXOGENOUS SHOCKS"
      ]
     },
     "metadata": {},
     "output_type": "display_data"
    },
    {
     "data": {
      "text/plain": [
       "Variables       eps_z     eps_g"
      ]
     },
     "metadata": {},
     "output_type": "display_data"
    },
    {
     "data": {
      "text/plain": [
       "eps_z        0.000095  0.000000"
      ]
     },
     "metadata": {},
     "output_type": "display_data"
    },
    {
     "data": {
      "text/plain": [
       "eps_g        0.000000  0.000754"
      ]
     },
     "metadata": {},
     "output_type": "display_data"
    },
    {
     "data": {
      "text/plain": []
     },
     "metadata": {},
     "output_type": "display_data"
    },
    {
     "data": {
      "text/plain": []
     },
     "metadata": {},
     "output_type": "display_data"
    },
    {
     "data": {
      "text/plain": [
       " Table 5 - Moments Mexico"
      ]
     },
     "metadata": {},
     "output_type": "display_data"
    },
    {
     "data": {
      "text/plain": [
       "            sigma(y) \t 2.80"
      ]
     },
     "metadata": {},
     "output_type": "display_data"
    },
    {
     "data": {
      "text/plain": [
       "      sigma(delta y) \t 2.03"
      ]
     },
     "metadata": {},
     "output_type": "display_data"
    },
    {
     "data": {
      "text/plain": [
       "   sigma(c)/sigma(y) \t 1.10"
      ]
     },
     "metadata": {},
     "output_type": "display_data"
    },
    {
     "data": {
      "text/plain": [
       "   sigma(i)/sigma(y) \t 2.37"
      ]
     },
     "metadata": {},
     "output_type": "display_data"
    },
    {
     "data": {
      "text/plain": [
       "  sigma(nx)/sigma(y) \t 0.61"
      ]
     },
     "metadata": {},
     "output_type": "display_data"
    },
    {
     "data": {
      "text/plain": [
       "              rho(y) \t 0.77"
      ]
     },
     "metadata": {},
     "output_type": "display_data"
    },
    {
     "data": {
      "text/plain": [
       "        rho(delta y) \t 0.10"
      ]
     },
     "metadata": {},
     "output_type": "display_data"
    },
    {
     "data": {
      "text/plain": [
       "           rho(y,nx) \t -0.42"
      ]
     },
     "metadata": {},
     "output_type": "display_data"
    },
    {
     "data": {
      "text/plain": [
       "            rho(y,c) \t 0.90"
      ]
     },
     "metadata": {},
     "output_type": "display_data"
    },
    {
     "data": {
      "text/plain": [
       "            rho(y,i) \t 0.92"
      ]
     },
     "metadata": {},
     "output_type": "display_data"
    },
    {
     "data": {
      "text/plain": [
       "Total computing time : 0h00m09s"
      ]
     },
     "metadata": {},
     "output_type": "display_data"
    },
    {
     "data": {
      "text/plain": [
       "Note: warning(s) encountered in MATLAB/Octave code"
      ]
     },
     "metadata": {},
     "output_type": "display_data"
    },
    {
     "data": {
      "text/plain": [
       "0.0"
      ]
     },
     "execution_count": 9,
     "metadata": {},
     "output_type": "execute_result"
    }
   ],
   "source": [
    "%octave dynare Aguiar_Gopinath_2007_notebook_2.mod"
   ]
  },
  {
   "cell_type": "code",
   "execution_count": 10,
   "metadata": {},
   "outputs": [
    {
     "name": "stdout",
     "output_type": "stream",
     "text": [
      "Overwriting Aguiar_Gopinath_2007_notebook_3.mod\n"
     ]
    }
   ],
   "source": [
    "%%writefile Aguiar_Gopinath_2007_notebook_3.mod\n",
    "\n",
    "/*\n",
    " * This file replicates the model studied in:\n",
    " * Aguiar, Mark and Gopinath, Gita (2007): \"Emerging Market Business Cycles:\n",
    " * The Cycle is the Trend\", Journal of Political Economy, 115(1), pp. 69-102.\n",
    " * \n",
    " * It provides a full replication of the main results of the original paper  \n",
    " * for the benchmark calibration. In contrast to the agmodel.mod distributed \n",
    " * with Dynare, it calibrates the debt to GDP ratio to exactly 0.1 by analytically\n",
    " * computing the steady state.\n",
    " *\n",
    " * This mod-file shows how to deal with trend growth and how to \n",
    " * recover the non-stationary variables from the detrended model variables.\n",
    " * \n",
    " * Notes:\n",
    " * - The original paper uses theoretical HP-filtered moments for the \n",
    " *   non-stationary time series. As Dynare only provides theoretical HP-filtered\n",
    " *   moments for stationary time series, the current mod-file instead uses\n",
    " *   simulated moments. This results in small moments differences in the second \n",
    " *   digit.\n",
    " * - The FOC wrt capital is simplified to a lesser degree than the one in agtrend.mod\n",
    " *   to make explicit the use of the product rule.\n",
    " * - The paper uses NX to denote net exports as a share of GDP, not the net export level\n",
    " *\n",
    " * This implementation was written by Johannes Pfeifer. \n",
    " * Please note that the following copyright notice only applies to this Dynare \n",
    " * implementation of the model.\n",
    " */\n",
    "\n",
    "/*\n",
    " * Copyright (C) 2013-2024 Johannes Pfeifer\n",
    " *\n",
    " * This is free software: you can redistribute it and/or modify\n",
    " * it under the terms of the GNU General Public License as published by\n",
    " * the Free Software Foundation, either version 3 of the License, or\n",
    " * (at your option) any later version.\n",
    " *\n",
    " * It is distributed in the hope that it will be useful,\n",
    " * but WITHOUT ANY WARRANTY; without even the implied warranty of\n",
    " * MERCHANTABILITY or FITNESS FOR A PARTICULAR PURPOSE.  See the\n",
    " * GNU General Public License for more details.\n",
    " *\n",
    " * For a copy of the GNU General Public License,\n",
    " * see <http://www.gnu.org/licenses/>.\n",
    " */\n",
    "\n",
    "var c k y b q g l u z uc ul c_y i_y invest nx i_y_percentage c_y_percentage \n",
    "    log_y log_c log_i\n",
    "    delta_y;\n",
    "\n",
    "predetermined_variables k b; //allows using beginning of period stock notation\n",
    "\n",
    "varexo eps_z eps_g;\n",
    "\n",
    "parameters mu_g sigma rho_g delta phi psi b_star alpha rho_z r_star beta gamma b_share;\n",
    "\n",
    "// Set the following variable to 0 to get the calibration for Canada\n",
    "@#define mexico = 0\n",
    "\n",
    "\n",
    "// Benchmark parameter values (Table 3)\n",
    "beta = 1/1.02;\n",
    "gamma = 0.36;\n",
    "b_share   = 0.1; //10% of GDP\n",
    "psi = 0.001;\n",
    "alpha = 0.68;\n",
    "sigma = 2;\n",
    "delta = 0.05;\n",
    "phi = 4;\n",
    "\n",
    "// Estimated parameters (Table 4)\n",
    "@#if mexico == 1\n",
    "mu_g = log(1.0066); //is used for benchmark although not mentioned in Table 3\n",
    "rho_z = 0.95;\n",
    "rho_g = 0.01;\n",
    "@# else\n",
    "mu_g = log(1.0073); //is used for benchmark although not mentioned in Table 3\n",
    "rho_z = 0.95;\n",
    "rho_g = 0.01;\n",
    "@# endif\n",
    "\n",
    "//compute steady state values and calibrate the model to a steady state debt to GDP \n",
    "//ratio of 0.1\n",
    " \n",
    "model;\n",
    "y = exp(z)*k^(1-alpha)*(exp(g)*l)^alpha; // Production function (1)\n",
    "z = rho_z*z(-1)+eps_z; // Definition transitory shock (2)\n",
    "g = (1-rho_g)*mu_g+rho_g*g(-1)+eps_g; // Definition trend shock \n",
    "u = (c^gamma*(1-l)^(1-gamma))^(1-sigma)/(1-sigma); // Cobb-Douglas utility function (3)\n",
    "uc = gamma*u/c*(1-sigma); //Marginal utility\n",
    "ul = -(1-gamma)*u/(1-l)*(1-sigma); //Disutility of labor\n",
    "c+exp(g)*k(+1)=y+(1-delta)*k-phi/2*(exp(g)*k(+1)/k-exp(mu_g))^2*k-b+q*exp(g)*b(+1); // Resource constraint (7)\n",
    "1/q = 1+r_star+psi*(exp(b(+1)-b_star)-1); // Price of debt (5)\n",
    "uc*(1+phi*(exp(g)*k(+1)/k-exp(mu_g)))*exp(g)=beta*exp(g*(gamma*(1-sigma)))*uc(+1)*(1-delta+(1-alpha)*y(+1)/k(+1)\n",
    "                                                  -phi/2*(2*(exp(g(+1))*k(+2)/k(+1)-exp(mu_g))*(-1)*exp(g(+1))*k(+2)/k(+1)+\n",
    "                                                          (exp(g(+1))*k(+2)/k(+1)-exp(mu_g))^2)); // FOC wrt to capital\n",
    "ul+uc*alpha*y/l=0; // FOC wrt labor \n",
    "uc*exp(g)*q=beta*exp(g*(gamma*(1-sigma)))*uc(+1); // Euler equation for Bonds\n",
    "invest = exp(g)*k(+1)-(1-delta)*k+phi/2*(exp(g)*k(+1)/k-exp(mu_g))^2*k; // Law of motion for capital (8)\n",
    "\n",
    "//Definitional equations used for IRFs and moment computations\n",
    "c_y = c/y; // Consumption to GDP ratio\n",
    "i_y = invest/y; // Investment to GDP ratio\n",
    "nx=(b-exp(g)*q*b(+1))/y; //Net export to GDP ratio\n",
    "\n",
    "//Use logarithm to get variables in percentage deviations\n",
    "i_y_percentage=log(i_y);\n",
    "c_y_percentage=log(c_y);\n",
    "log_y=log(y);\n",
    "log_c=log(c);\n",
    "log_i=log(invest);\n",
    "\n",
    "//Define growth rate of output\n",
    "delta_y=log(y)-log(y(-1))+g(-1);\n",
    "end;\n",
    "\n",
    "steady_state_model;\n",
    "q=beta*exp(mu_g)^(gamma*(1-sigma)-1);\n",
    "YKbar=((1/q)-(1-delta))/(1-alpha);\n",
    "c_y=1+(1-exp(mu_g)-delta)*(1/YKbar)-(1-exp(mu_g)*q)*b_share;\n",
    "l=(alpha*gamma)/(c_y-gamma*c_y+alpha*gamma);\n",
    "k=(((exp(mu_g)^alpha)*(l^alpha))/YKbar)^(1/alpha);\n",
    "y=k^(1-alpha)*(l*exp(mu_g))^alpha;\n",
    "c=c_y*y;\n",
    "invest=(exp(mu_g)-1+delta)*k;\n",
    "b_star=b_share*y;\n",
    "nx=(y-c-invest)/y;\n",
    "r_star = 1/q-1;\n",
    "\n",
    "b = b_star;\n",
    "z = 0;\n",
    "g = mu_g;\n",
    "u = (c^gamma*(1-l)^(1-gamma))^(1-sigma)/(1-sigma);\n",
    "uc = gamma*u/c*(1-sigma);\n",
    "ul = -(1-gamma)*u/(1-l)*(1-sigma);\n",
    "i_y = (exp(g)*k-(1-delta)*k)/y;\n",
    "i_y_percentage=log(i_y);\n",
    "c_y_percentage=log(c_y);\n",
    "log_y=log(y);\n",
    "log_c=log(c);\n",
    "log_i=log(invest);\n",
    "delta_y=mu_g;\n",
    "end;\n",
    "\n",
    "\n",
    "//%%%%%%%%%%%%%%%%% Replicate Table 5, p. 94-95  %%%%%%%%%%%%%%%%%%%%%%%%%\n",
    "//%%%%%%%%%%%%%%%%% Panel A, Column 2 (specification 1) %%%%%%%%%%%%%%%%%%\n",
    "\n",
    "//reset shocks to specification 1 of Table 4\n",
    "@#if mexico == 1\n",
    "shocks;\n",
    "var eps_g; stderr 2.7454/100;\n",
    "var eps_z; stderr 0.9735/100;\n",
    "end;\n",
    "@# else\n",
    "shocks;\n",
    "var eps_g; stderr 1.4982/100;\n",
    "var eps_z; stderr 0.7025/100;\n",
    "end;\n",
    "@# endif\n",
    "\n",
    "\n",
    "// Simulate series on which to compute moments (Paper uses analytical moments)\n",
    "stoch_simul(irf=0,order=1,periods=100000,nomoments,nofunctions) log_y delta_y c invest nx;\n",
    "send_endogenous_variables_to_workspace;    \n",
    "\n",
    "// Rebuild non-stationary time series by remultiplying with trend Gamma_{t-1}\n",
    "\n",
    "log_Gamma_0=0; //Initialize Level of Technology at t=0;\n",
    "log_Gamma(1,1)=g(1,1)+log_Gamma_0; //Level of Tech. after shock in period 1\n",
    "\n",
    "// reaccumulate the non-stationary level series\n",
    "log_y_nonstationary = zeros(options_.periods,1);\n",
    "log_c_nonstationary = zeros(options_.periods,1);\n",
    "log_i_nonstationary = zeros(options_.periods,1);\n",
    "for ii=2:options_.periods\n",
    "    log_Gamma(ii,1)=g(ii,1)+log_Gamma(ii-1,1);\n",
    "    log_y_nonstationary(ii,1)=log_y(ii,1)+log_Gamma(ii-1,1);\n",
    "    log_c_nonstationary(ii,1)=log_c(ii,1)+log_Gamma(ii-1,1);\n",
    "    log_i_nonstationary(ii,1)=log_i(ii,1)+log_Gamma(ii-1,1);\n",
    "end\n",
    "\n",
    "// HP-filter the non-stationary time series; note that nx is share of \n",
    "// net exports in GDP and does not contain a trend by construction \n",
    "\n",
    "[ytrend,ycyclical]=sample_hp_filter([log_y_nonstationary log_c_nonstationary log_i_nonstationary nx],1600);\n",
    "\n",
    "//compute standard deviations\n",
    "standard_devs=std(ycyclical)*100;\n",
    "standard_dev_first_diff=std(delta_y)*100;\n",
    "\n",
    "//compute relative standard deviations\n",
    "relative_standard_devs=standard_devs./standard_devs(1);\n",
    "\n",
    "//compute autocorrelations\n",
    "autocorrelations(1,1)=corr(ycyclical(2:end,1),ycyclical(1:end-1,1));\n",
    "autocorrelations(2,1)=corr(delta_y(2:end,1),delta_y(1:end-1,1));\n",
    "\n",
    "//compute correlations\n",
    "correlations=corr(ycyclical(:,1),ycyclical(:,2:end));\n",
    "\n",
    "//Display everything\n",
    "fprintf('\\n Table 5 - Moments Canada \\n');\n",
    "fprintf('%20s \\t %3.2f\\n','sigma(y)',standard_devs(1,1));\n",
    "fprintf('%20s \\t %3.2f\\n','sigma(delta y)',standard_dev_first_diff);\n",
    "fprintf('%20s \\t %3.2f\\n','sigma(c)/sigma(y)',relative_standard_devs(2));\n",
    "fprintf('%20s \\t %3.2f\\n','sigma(i)/sigma(y)',relative_standard_devs(3));\n",
    "fprintf('%20s \\t %3.2f\\n','sigma(nx)/sigma(y)',relative_standard_devs(4));\n",
    "fprintf('%20s \\t %3.2f\\n','rho(y)',autocorrelations(1,1));\n",
    "fprintf('%20s \\t %3.2f\\n','rho(delta y)',autocorrelations(2,1));\n",
    "fprintf('%20s \\t %3.2f\\n','rho(y,nx)',correlations(3));\n",
    "fprintf('%20s \\t %3.2f\\n','rho(y,c)',correlations(1));\n",
    "fprintf('%20s \\t %3.2f\\n','rho(y,i)',correlations(2));"
   ]
  },
  {
   "cell_type": "code",
   "execution_count": 11,
   "metadata": {},
   "outputs": [
    {
     "data": {
      "text/plain": [
       "\u001b[?2004l"
      ]
     },
     "metadata": {},
     "output_type": "display_data"
    },
    {
     "data": {
      "text/plain": [
       "\u001b[?2004l"
      ]
     },
     "metadata": {},
     "output_type": "display_data"
    },
    {
     "name": "stdout",
     "output_type": "stream",
     "text": [
      "\u001b[?2004l\n",
      "\u001b[?2004l\n",
      "\u001b[?2004l\n"
     ]
    },
    {
     "data": {
      "text/plain": [
       "\u001b[?2004l"
      ]
     },
     "metadata": {},
     "output_type": "display_data"
    },
    {
     "data": {
      "text/plain": [
       "warning: X13 binary is not available."
      ]
     },
     "metadata": {},
     "output_type": "display_data"
    },
    {
     "data": {
      "text/plain": [
       "If you are under Debian or Ubuntu, you can install it through your package manager, with 'apt install x13as'."
      ]
     },
     "metadata": {},
     "output_type": "display_data"
    },
    {
     "data": {
      "text/plain": [
       "If you are under Windows or macOS, this probably means that you did not install the dseries toolbox through an official package."
      ]
     },
     "metadata": {},
     "output_type": "display_data"
    },
    {
     "data": {
      "text/plain": [
       "Starting Dynare (version 6.1)."
      ]
     },
     "metadata": {},
     "output_type": "display_data"
    },
    {
     "data": {
      "text/plain": [
       "Calling Dynare with arguments: none"
      ]
     },
     "metadata": {},
     "output_type": "display_data"
    },
    {
     "data": {
      "text/plain": [
       "Starting preprocessing of the model file ..."
      ]
     },
     "metadata": {},
     "output_type": "display_data"
    },
    {
     "data": {
      "text/plain": [
       "Found 21 equation(s)."
      ]
     },
     "metadata": {},
     "output_type": "display_data"
    },
    {
     "data": {
      "text/plain": [
       "Evaluating expressions..."
      ]
     },
     "metadata": {},
     "output_type": "display_data"
    },
    {
     "data": {
      "text/plain": [
       "Computing static model derivatives (order 1)."
      ]
     },
     "metadata": {},
     "output_type": "display_data"
    },
    {
     "data": {
      "text/plain": [
       "Normalizing the static model..."
      ]
     },
     "metadata": {},
     "output_type": "display_data"
    },
    {
     "data": {
      "text/plain": [
       "Finding the optimal block decomposition of the static model..."
      ]
     },
     "metadata": {},
     "output_type": "display_data"
    },
    {
     "data": {
      "text/plain": [
       "5 block(s) found:"
      ]
     },
     "metadata": {},
     "output_type": "display_data"
    },
    {
     "data": {
      "text/plain": [
       "  4 recursive block(s) and 1 simultaneous block(s)."
      ]
     },
     "metadata": {},
     "output_type": "display_data"
    },
    {
     "data": {
      "text/plain": [
       "  the largest simultaneous block has 9 equation(s)"
      ]
     },
     "metadata": {},
     "output_type": "display_data"
    },
    {
     "data": {
      "text/plain": [
       "                                 and 9 feedback variable(s)."
      ]
     },
     "metadata": {},
     "output_type": "display_data"
    },
    {
     "data": {
      "text/plain": [
       "Computing dynamic model derivatives (order 1)."
      ]
     },
     "metadata": {},
     "output_type": "display_data"
    },
    {
     "data": {
      "text/plain": [
       "Normalizing the dynamic model..."
      ]
     },
     "metadata": {},
     "output_type": "display_data"
    },
    {
     "data": {
      "text/plain": [
       "Finding the optimal block decomposition of the dynamic model..."
      ]
     },
     "metadata": {},
     "output_type": "display_data"
    },
    {
     "data": {
      "text/plain": [
       "3 block(s) found:"
      ]
     },
     "metadata": {},
     "output_type": "display_data"
    },
    {
     "data": {
      "text/plain": [
       "  2 recursive block(s) and 1 simultaneous block(s)."
      ]
     },
     "metadata": {},
     "output_type": "display_data"
    },
    {
     "data": {
      "text/plain": [
       "  the largest simultaneous block has 9 equation(s)"
      ]
     },
     "metadata": {},
     "output_type": "display_data"
    },
    {
     "data": {
      "text/plain": [
       "                                 and 7 feedback variable(s)."
      ]
     },
     "metadata": {},
     "output_type": "display_data"
    },
    {
     "data": {
      "text/plain": [
       "Preprocessing completed."
      ]
     },
     "metadata": {},
     "output_type": "display_data"
    },
    {
     "data": {
      "text/plain": [
       "Preprocessing time: 0h00m00s."
      ]
     },
     "metadata": {},
     "output_type": "display_data"
    },
    {
     "data": {
      "text/plain": [
       "warning: Some of the parameters have no value (b_star, r_star) when using stoch_simul. If these parameters are not initialized in a steadystate file or a steady_state_model-block, Dynare may not be able to solve the model. Note that simul, perfect_foresight_setup, and perfect_foresight_solver do not automatically call the steady state file."
      ]
     },
     "metadata": {},
     "output_type": "display_data"
    },
    {
     "data": {
      "text/plain": []
     },
     "metadata": {},
     "output_type": "display_data"
    },
    {
     "data": {
      "text/plain": [
       "MODEL SUMMARY"
      ]
     },
     "metadata": {},
     "output_type": "display_data"
    },
    {
     "data": {
      "text/plain": []
     },
     "metadata": {},
     "output_type": "display_data"
    },
    {
     "data": {
      "text/plain": [
       "  Number of variables:         21"
      ]
     },
     "metadata": {},
     "output_type": "display_data"
    },
    {
     "data": {
      "text/plain": [
       "  Number of stochastic shocks: 2"
      ]
     },
     "metadata": {},
     "output_type": "display_data"
    },
    {
     "data": {
      "text/plain": [
       "  Number of state variables:   5"
      ]
     },
     "metadata": {},
     "output_type": "display_data"
    },
    {
     "data": {
      "text/plain": [
       "  Number of jumpers:           4"
      ]
     },
     "metadata": {},
     "output_type": "display_data"
    },
    {
     "data": {
      "text/plain": [
       "  Number of static variables:  15"
      ]
     },
     "metadata": {},
     "output_type": "display_data"
    },
    {
     "data": {
      "text/plain": []
     },
     "metadata": {},
     "output_type": "display_data"
    },
    {
     "data": {
      "text/plain": []
     },
     "metadata": {},
     "output_type": "display_data"
    },
    {
     "data": {
      "text/plain": [
       "MATRIX OF COVARIANCE OF EXOGENOUS SHOCKS"
      ]
     },
     "metadata": {},
     "output_type": "display_data"
    },
    {
     "data": {
      "text/plain": [
       "Variables       eps_z     eps_g"
      ]
     },
     "metadata": {},
     "output_type": "display_data"
    },
    {
     "data": {
      "text/plain": [
       "eps_z        0.000049  0.000000"
      ]
     },
     "metadata": {},
     "output_type": "display_data"
    },
    {
     "data": {
      "text/plain": [
       "eps_g        0.000000  0.000224"
      ]
     },
     "metadata": {},
     "output_type": "display_data"
    },
    {
     "data": {
      "text/plain": []
     },
     "metadata": {},
     "output_type": "display_data"
    },
    {
     "data": {
      "text/plain": []
     },
     "metadata": {},
     "output_type": "display_data"
    },
    {
     "data": {
      "text/plain": [
       " Table 5 - Moments Canada"
      ]
     },
     "metadata": {},
     "output_type": "display_data"
    },
    {
     "data": {
      "text/plain": [
       "            sigma(y) \t 1.73"
      ]
     },
     "metadata": {},
     "output_type": "display_data"
    },
    {
     "data": {
      "text/plain": [
       "      sigma(delta y) \t 1.26"
      ]
     },
     "metadata": {},
     "output_type": "display_data"
    },
    {
     "data": {
      "text/plain": [
       "   sigma(c)/sigma(y) \t 1.00"
      ]
     },
     "metadata": {},
     "output_type": "display_data"
    },
    {
     "data": {
      "text/plain": [
       "   sigma(i)/sigma(y) \t 2.25"
      ]
     },
     "metadata": {},
     "output_type": "display_data"
    },
    {
     "data": {
      "text/plain": [
       "  sigma(nx)/sigma(y) \t 0.55"
      ]
     },
     "metadata": {},
     "output_type": "display_data"
    },
    {
     "data": {
      "text/plain": [
       "              rho(y) \t 0.76"
      ]
     },
     "metadata": {},
     "output_type": "display_data"
    },
    {
     "data": {
      "text/plain": [
       "        rho(delta y) \t 0.08"
      ]
     },
     "metadata": {},
     "output_type": "display_data"
    },
    {
     "data": {
      "text/plain": [
       "           rho(y,nx) \t -0.26"
      ]
     },
     "metadata": {},
     "output_type": "display_data"
    },
    {
     "data": {
      "text/plain": [
       "            rho(y,c) \t 0.88"
      ]
     },
     "metadata": {},
     "output_type": "display_data"
    },
    {
     "data": {
      "text/plain": [
       "            rho(y,i) \t 0.92"
      ]
     },
     "metadata": {},
     "output_type": "display_data"
    },
    {
     "data": {
      "text/plain": [
       "Total computing time : 0h00m09s"
      ]
     },
     "metadata": {},
     "output_type": "display_data"
    },
    {
     "data": {
      "text/plain": [
       "Note: warning(s) encountered in MATLAB/Octave code"
      ]
     },
     "metadata": {},
     "output_type": "display_data"
    },
    {
     "data": {
      "text/plain": [
       "0.0"
      ]
     },
     "execution_count": 11,
     "metadata": {},
     "output_type": "execute_result"
    }
   ],
   "source": [
    "%octave dynare Aguiar_Gopinath_2007_notebook_3.mod"
   ]
  }
 ],
 "metadata": {
  "kernelspec": {
   "display_name": "base",
   "language": "python",
   "name": "python3"
  },
  "language_info": {
   "codemirror_mode": {
    "name": "ipython",
    "version": 3
   },
   "file_extension": ".py",
   "mimetype": "text/x-python",
   "name": "python",
   "nbconvert_exporter": "python",
   "pygments_lexer": "ipython3",
   "version": "3.11.5"
  }
 },
 "nbformat": 4,
 "nbformat_minor": 2
}
